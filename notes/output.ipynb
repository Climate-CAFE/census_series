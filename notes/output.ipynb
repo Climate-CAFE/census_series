{
 "cells": [
  {
   "cell_type": "code",
   "execution_count": 8,
   "metadata": {},
   "outputs": [],
   "source": [
    "import pyarrow.parquet as pq\n",
    "import pandas as pd"
   ]
  },
  {
   "cell_type": "code",
   "execution_count": 3,
   "metadata": {},
   "outputs": [
    {
     "data": {
      "text/plain": [
       "year: int64\n",
       "variable: string\n",
       "value: double\n",
       "county: string\n",
       "-- schema metadata --\n",
       "pandas: '{\"index_columns\": [\"county\"], \"column_indexes\": [{\"name\": null, ' + 646"
      ]
     },
     "execution_count": 3,
     "metadata": {},
     "output_type": "execute_result"
    }
   ],
   "source": [
    "pq.read_schema(\"data/output/census_series/acs1_county.parquet\")"
   ]
  },
  {
   "cell_type": "code",
   "execution_count": 4,
   "metadata": {},
   "outputs": [
    {
     "data": {
      "text/plain": [
       "<pyarrow._parquet.FileMetaData object at 0x1067824d0>\n",
       "  created_by: parquet-cpp-arrow version 14.0.2\n",
       "  num_columns: 4\n",
       "  num_rows: 58246\n",
       "  num_row_groups: 1\n",
       "  format_version: 2.6\n",
       "  serialized_size: 2664"
      ]
     },
     "execution_count": 4,
     "metadata": {},
     "output_type": "execute_result"
    }
   ],
   "source": [
    "pq.read_metadata(\"data/output/census_series/acs1_county.parquet\")"
   ]
  },
  {
   "cell_type": "code",
   "execution_count": 9,
   "metadata": {},
   "outputs": [],
   "source": [
    "#extract to pandas\n",
    "df = pd.read_parquet(\"data/output/census_series/acs1_county.parquet\")"
   ]
  },
  {
   "cell_type": "code",
   "execution_count": 10,
   "metadata": {},
   "outputs": [
    {
     "data": {
      "text/html": [
       "<div>\n",
       "<style scoped>\n",
       "    .dataframe tbody tr th:only-of-type {\n",
       "        vertical-align: middle;\n",
       "    }\n",
       "\n",
       "    .dataframe tbody tr th {\n",
       "        vertical-align: top;\n",
       "    }\n",
       "\n",
       "    .dataframe thead th {\n",
       "        text-align: right;\n",
       "    }\n",
       "</style>\n",
       "<table border=\"1\" class=\"dataframe\">\n",
       "  <thead>\n",
       "    <tr style=\"text-align: right;\">\n",
       "      <th></th>\n",
       "      <th>year</th>\n",
       "      <th>variable</th>\n",
       "      <th>value</th>\n",
       "    </tr>\n",
       "    <tr>\n",
       "      <th>county</th>\n",
       "      <th></th>\n",
       "      <th></th>\n",
       "      <th></th>\n",
       "    </tr>\n",
       "  </thead>\n",
       "  <tbody>\n",
       "    <tr>\n",
       "      <th>16547</th>\n",
       "      <td>2013</td>\n",
       "      <td>education</td>\n",
       "      <td>0.240289</td>\n",
       "    </tr>\n",
       "    <tr>\n",
       "      <th>14147</th>\n",
       "      <td>2017</td>\n",
       "      <td>pct_owner_occ</td>\n",
       "      <td>0.590176</td>\n",
       "    </tr>\n",
       "    <tr>\n",
       "      <th>03130</th>\n",
       "      <td>2011</td>\n",
       "      <td>hispanic</td>\n",
       "      <td>0.025553</td>\n",
       "    </tr>\n",
       "    <tr>\n",
       "      <th>12113</th>\n",
       "      <td>2017</td>\n",
       "      <td>pct_owner_occ</td>\n",
       "      <td>0.514456</td>\n",
       "    </tr>\n",
       "    <tr>\n",
       "      <th>01538</th>\n",
       "      <td>2005</td>\n",
       "      <td>medhouseholdincome</td>\n",
       "      <td>44830.000000</td>\n",
       "    </tr>\n",
       "  </tbody>\n",
       "</table>\n",
       "</div>"
      ],
      "text/plain": [
       "        year            variable         value\n",
       "county                                        \n",
       "16547   2013           education      0.240289\n",
       "14147   2017       pct_owner_occ      0.590176\n",
       "03130   2011            hispanic      0.025553\n",
       "12113   2017       pct_owner_occ      0.514456\n",
       "01538   2005  medhouseholdincome  44830.000000"
      ]
     },
     "execution_count": 10,
     "metadata": {},
     "output_type": "execute_result"
    }
   ],
   "source": [
    "df.sample(5)"
   ]
  },
  {
   "cell_type": "code",
   "execution_count": null,
   "metadata": {},
   "outputs": [],
   "source": []
  }
 ],
 "metadata": {
  "kernelspec": {
   "display_name": "census_series",
   "language": "python",
   "name": "python3"
  },
  "language_info": {
   "codemirror_mode": {
    "name": "ipython",
    "version": 3
   },
   "file_extension": ".py",
   "mimetype": "text/x-python",
   "name": "python",
   "nbconvert_exporter": "python",
   "pygments_lexer": "ipython3",
   "version": "3.11.7"
  }
 },
 "nbformat": 4,
 "nbformat_minor": 2
}
