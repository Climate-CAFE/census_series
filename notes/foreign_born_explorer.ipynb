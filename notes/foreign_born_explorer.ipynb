{
 "cells": [
  {
   "cell_type": "code",
   "execution_count": 1,
   "metadata": {},
   "outputs": [],
   "source": [
    "import censusdis.data as ced\n",
    "import pandas as pd\n",
    "import string"
   ]
  },
  {
   "cell_type": "code",
   "execution_count": 34,
   "metadata": {},
   "outputs": [],
   "source": [
    "pd.set_option('display.max_colwidth', None)"
   ]
  },
  {
   "cell_type": "markdown",
   "metadata": {},
   "source": [
    "# Foreign Born Explorer"
   ]
  },
  {
   "cell_type": "code",
   "execution_count": 2,
   "metadata": {},
   "outputs": [],
   "source": [
    "def validate_xyear(var_variable, var_group, var_dataset, var_years):\n",
    "    var_df = list() \n",
    "    for year in var_years:\n",
    "        # identify whether group is a dictionary or string\n",
    "        if isinstance(var_group, dict):\n",
    "            group = var_group[year]\n",
    "        elif isinstance(var_group, str):\n",
    "            group = var_group\n",
    "        # identify whether dataset is a dictionary or string\n",
    "        if isinstance(var_dataset, dict):\n",
    "            dataset = var_dataset[year]\n",
    "        elif isinstance(var_dataset, str):\n",
    "            dataset = var_dataset\n",
    "        # identify whether variable is a dictionary or string\n",
    "        if isinstance(var_variable, dict):\n",
    "            variable = var_variable[year]\n",
    "        elif isinstance(var_variable, str):\n",
    "            variable = var_variable\n",
    "        # make request\n",
    "        var = ced.variables.all_variables(dataset, year, group)\n",
    "        # make sure variable is in dataset\n",
    "        if var[var.VARIABLE == variable].shape[0] == 0:\n",
    "            print(f'{variable} not found in {dataset} for {year}')\n",
    "            return []\n",
    "        var = var[var.VARIABLE == variable]\n",
    "        var_df.append(var)\n",
    "    var_df = pd.concat(var_df)\n",
    "    label = var_df.LABEL\n",
    "    for token in string.punctuation:\n",
    "        label = label.str.replace(token, ' ')\n",
    "    # Remove multiple spaces\n",
    "    label = label.str.replace(' +', ' ', regex=True)\n",
    "    # Remove leading and trailing spaces\n",
    "    label = label.str.strip()\n",
    "    # Convert to small caps\n",
    "    label = label.str.lower()\n",
    "    return label.unique().tolist()"
   ]
  },
  {
   "cell_type": "code",
   "execution_count": 3,
   "metadata": {},
   "outputs": [
    {
     "data": {
      "text/html": [
       "<div>\n",
       "<style scoped>\n",
       "    .dataframe tbody tr th:only-of-type {\n",
       "        vertical-align: middle;\n",
       "    }\n",
       "\n",
       "    .dataframe tbody tr th {\n",
       "        vertical-align: top;\n",
       "    }\n",
       "\n",
       "    .dataframe thead th {\n",
       "        text-align: right;\n",
       "    }\n",
       "</style>\n",
       "<table border=\"1\" class=\"dataframe\">\n",
       "  <thead>\n",
       "    <tr style=\"text-align: right;\">\n",
       "      <th></th>\n",
       "      <th>GROUP</th>\n",
       "      <th>DESCRIPTION</th>\n",
       "    </tr>\n",
       "  </thead>\n",
       "  <tbody>\n",
       "    <tr>\n",
       "      <th>0</th>\n",
       "      <td>B00001</td>\n",
       "      <td>UNWEIGHTED SAMPLE COUNT OF THE POPULATION</td>\n",
       "    </tr>\n",
       "    <tr>\n",
       "      <th>1</th>\n",
       "      <td>B00002</td>\n",
       "      <td>UNWEIGHTED SAMPLE HOUSING UNITS</td>\n",
       "    </tr>\n",
       "    <tr>\n",
       "      <th>2</th>\n",
       "      <td>B01001</td>\n",
       "      <td>SEX BY AGE</td>\n",
       "    </tr>\n",
       "    <tr>\n",
       "      <th>3</th>\n",
       "      <td>B01001A</td>\n",
       "      <td>SEX BY AGE (WHITE ALONE)</td>\n",
       "    </tr>\n",
       "    <tr>\n",
       "      <th>4</th>\n",
       "      <td>B01001B</td>\n",
       "      <td>SEX BY AGE (BLACK OR AFRICAN AMERICAN ALONE)</td>\n",
       "    </tr>\n",
       "  </tbody>\n",
       "</table>\n",
       "</div>"
      ],
      "text/plain": [
       "     GROUP                                   DESCRIPTION\n",
       "0   B00001     UNWEIGHTED SAMPLE COUNT OF THE POPULATION\n",
       "1   B00002               UNWEIGHTED SAMPLE HOUSING UNITS\n",
       "2   B01001                                    SEX BY AGE\n",
       "3  B01001A                      SEX BY AGE (WHITE ALONE)\n",
       "4  B01001B  SEX BY AGE (BLACK OR AFRICAN AMERICAN ALONE)"
      ]
     },
     "execution_count": 3,
     "metadata": {},
     "output_type": "execute_result"
    }
   ],
   "source": [
    "acs_acs5_groups_2009 = ced.variables.all_groups('acs/acs5', year=2009)[['GROUP', 'DESCRIPTION']]\n",
    "acs_acs5_groups_2009.to_csv('notes/acs_acs5_groups_2009.csv', index=False)\n",
    "acs_acs5_groups_2009.head()"
   ]
  },
  {
   "cell_type": "code",
   "execution_count": 4,
   "metadata": {},
   "outputs": [
    {
     "data": {
      "text/html": [
       "<div>\n",
       "<style scoped>\n",
       "    .dataframe tbody tr th:only-of-type {\n",
       "        vertical-align: middle;\n",
       "    }\n",
       "\n",
       "    .dataframe tbody tr th {\n",
       "        vertical-align: top;\n",
       "    }\n",
       "\n",
       "    .dataframe thead th {\n",
       "        text-align: right;\n",
       "    }\n",
       "</style>\n",
       "<table border=\"1\" class=\"dataframe\">\n",
       "  <thead>\n",
       "    <tr style=\"text-align: right;\">\n",
       "      <th></th>\n",
       "      <th>GROUP</th>\n",
       "      <th>DESCRIPTION</th>\n",
       "    </tr>\n",
       "  </thead>\n",
       "  <tbody>\n",
       "    <tr>\n",
       "      <th>0</th>\n",
       "      <td>B00001</td>\n",
       "      <td>UNWEIGHTED SAMPLE COUNT OF THE POPULATION</td>\n",
       "    </tr>\n",
       "    <tr>\n",
       "      <th>1</th>\n",
       "      <td>B00002</td>\n",
       "      <td>UNWEIGHTED SAMPLE HOUSING UNITS</td>\n",
       "    </tr>\n",
       "    <tr>\n",
       "      <th>2</th>\n",
       "      <td>B01001</td>\n",
       "      <td>SEX BY AGE</td>\n",
       "    </tr>\n",
       "    <tr>\n",
       "      <th>3</th>\n",
       "      <td>B01001A</td>\n",
       "      <td>SEX BY AGE (WHITE ALONE)</td>\n",
       "    </tr>\n",
       "    <tr>\n",
       "      <th>4</th>\n",
       "      <td>B01001B</td>\n",
       "      <td>SEX BY AGE (BLACK OR AFRICAN AMERICAN ALONE)</td>\n",
       "    </tr>\n",
       "  </tbody>\n",
       "</table>\n",
       "</div>"
      ],
      "text/plain": [
       "     GROUP                                   DESCRIPTION\n",
       "0   B00001     UNWEIGHTED SAMPLE COUNT OF THE POPULATION\n",
       "1   B00002               UNWEIGHTED SAMPLE HOUSING UNITS\n",
       "2   B01001                                    SEX BY AGE\n",
       "3  B01001A                      SEX BY AGE (WHITE ALONE)\n",
       "4  B01001B  SEX BY AGE (BLACK OR AFRICAN AMERICAN ALONE)"
      ]
     },
     "execution_count": 4,
     "metadata": {},
     "output_type": "execute_result"
    }
   ],
   "source": [
    "acs_acs5_groups_2016 = ced.variables.all_groups('acs/acs5', year=2016)[['GROUP', 'DESCRIPTION']]\n",
    "acs_acs5_groups_2016.head()"
   ]
  },
  {
   "cell_type": "code",
   "execution_count": 5,
   "metadata": {},
   "outputs": [
    {
     "data": {
      "text/html": [
       "<div>\n",
       "<style scoped>\n",
       "    .dataframe tbody tr th:only-of-type {\n",
       "        vertical-align: middle;\n",
       "    }\n",
       "\n",
       "    .dataframe tbody tr th {\n",
       "        vertical-align: top;\n",
       "    }\n",
       "\n",
       "    .dataframe thead th {\n",
       "        text-align: right;\n",
       "    }\n",
       "</style>\n",
       "<table border=\"1\" class=\"dataframe\">\n",
       "  <thead>\n",
       "    <tr style=\"text-align: right;\">\n",
       "      <th></th>\n",
       "      <th>GROUP</th>\n",
       "      <th>DESCRIPTION</th>\n",
       "    </tr>\n",
       "  </thead>\n",
       "  <tbody>\n",
       "    <tr>\n",
       "      <th>0</th>\n",
       "      <td>B00001</td>\n",
       "      <td>UNWEIGHTED SAMPLE COUNT OF THE POPULATION</td>\n",
       "    </tr>\n",
       "    <tr>\n",
       "      <th>1</th>\n",
       "      <td>B00002</td>\n",
       "      <td>UNWEIGHTED SAMPLE HOUSING UNITS</td>\n",
       "    </tr>\n",
       "    <tr>\n",
       "      <th>2</th>\n",
       "      <td>B01001</td>\n",
       "      <td>SEX BY AGE</td>\n",
       "    </tr>\n",
       "    <tr>\n",
       "      <th>3</th>\n",
       "      <td>B01001A</td>\n",
       "      <td>SEX BY AGE (WHITE ALONE)</td>\n",
       "    </tr>\n",
       "    <tr>\n",
       "      <th>4</th>\n",
       "      <td>B01001B</td>\n",
       "      <td>SEX BY AGE (BLACK OR AFRICAN AMERICAN ALONE)</td>\n",
       "    </tr>\n",
       "  </tbody>\n",
       "</table>\n",
       "</div>"
      ],
      "text/plain": [
       "     GROUP                                   DESCRIPTION\n",
       "0   B00001     UNWEIGHTED SAMPLE COUNT OF THE POPULATION\n",
       "1   B00002               UNWEIGHTED SAMPLE HOUSING UNITS\n",
       "2   B01001                                    SEX BY AGE\n",
       "3  B01001A                      SEX BY AGE (WHITE ALONE)\n",
       "4  B01001B  SEX BY AGE (BLACK OR AFRICAN AMERICAN ALONE)"
      ]
     },
     "execution_count": 5,
     "metadata": {},
     "output_type": "execute_result"
    }
   ],
   "source": [
    "acs_acs1_groups_2007 = ced.variables.all_groups('acs/acs1', year=2007)[['GROUP', 'DESCRIPTION']]\n",
    "acs_acs1_groups_2007.to_csv('notes/acs_acs1_groups_2007.csv', index=False)\n",
    "acs_acs1_groups_2007.head()"
   ]
  },
  {
   "cell_type": "code",
   "execution_count": 6,
   "metadata": {},
   "outputs": [
    {
     "data": {
      "text/html": [
       "<div>\n",
       "<style scoped>\n",
       "    .dataframe tbody tr th:only-of-type {\n",
       "        vertical-align: middle;\n",
       "    }\n",
       "\n",
       "    .dataframe tbody tr th {\n",
       "        vertical-align: top;\n",
       "    }\n",
       "\n",
       "    .dataframe thead th {\n",
       "        text-align: right;\n",
       "    }\n",
       "</style>\n",
       "<table border=\"1\" class=\"dataframe\">\n",
       "  <thead>\n",
       "    <tr style=\"text-align: right;\">\n",
       "      <th></th>\n",
       "      <th>GROUP</th>\n",
       "      <th>DESCRIPTION</th>\n",
       "    </tr>\n",
       "  </thead>\n",
       "  <tbody>\n",
       "    <tr>\n",
       "      <th>0</th>\n",
       "      <td>B00001</td>\n",
       "      <td>UNWEIGHTED SAMPLE COUNT OF THE POPULATION</td>\n",
       "    </tr>\n",
       "    <tr>\n",
       "      <th>1</th>\n",
       "      <td>B00002</td>\n",
       "      <td>UNWEIGHTED SAMPLE HOUSING UNITS</td>\n",
       "    </tr>\n",
       "    <tr>\n",
       "      <th>2</th>\n",
       "      <td>B01001</td>\n",
       "      <td>SEX BY AGE</td>\n",
       "    </tr>\n",
       "    <tr>\n",
       "      <th>3</th>\n",
       "      <td>B01001A</td>\n",
       "      <td>SEX BY AGE (WHITE ALONE)</td>\n",
       "    </tr>\n",
       "    <tr>\n",
       "      <th>4</th>\n",
       "      <td>B01001B</td>\n",
       "      <td>SEX BY AGE (BLACK OR AFRICAN AMERICAN ALONE)</td>\n",
       "    </tr>\n",
       "  </tbody>\n",
       "</table>\n",
       "</div>"
      ],
      "text/plain": [
       "     GROUP                                   DESCRIPTION\n",
       "0   B00001     UNWEIGHTED SAMPLE COUNT OF THE POPULATION\n",
       "1   B00002               UNWEIGHTED SAMPLE HOUSING UNITS\n",
       "2   B01001                                    SEX BY AGE\n",
       "3  B01001A                      SEX BY AGE (WHITE ALONE)\n",
       "4  B01001B  SEX BY AGE (BLACK OR AFRICAN AMERICAN ALONE)"
      ]
     },
     "execution_count": 6,
     "metadata": {},
     "output_type": "execute_result"
    }
   ],
   "source": [
    "acs_acs1_groups_2016 = ced.variables.all_groups('acs/acs1', year=2016)[['GROUP', 'DESCRIPTION']]\n",
    "acs_acs1_groups_2016.head()"
   ]
  },
  {
   "cell_type": "markdown",
   "metadata": {},
   "source": [
    "## Total foreign born (Place of birth)"
   ]
  },
  {
   "cell_type": "code",
   "execution_count": 7,
   "metadata": {},
   "outputs": [
    {
     "name": "stdout",
     "output_type": "stream",
     "text": [
      "     GROUP                                     DESCRIPTION\n",
      "47  B05006  PLACE OF BIRTH FOR THE FOREIGN-BORN POPULATION\n"
     ]
    },
    {
     "data": {
      "text/html": [
       "<div>\n",
       "<style scoped>\n",
       "    .dataframe tbody tr th:only-of-type {\n",
       "        vertical-align: middle;\n",
       "    }\n",
       "\n",
       "    .dataframe tbody tr th {\n",
       "        vertical-align: top;\n",
       "    }\n",
       "\n",
       "    .dataframe thead th {\n",
       "        text-align: right;\n",
       "    }\n",
       "</style>\n",
       "<table border=\"1\" class=\"dataframe\">\n",
       "  <thead>\n",
       "    <tr style=\"text-align: right;\">\n",
       "      <th></th>\n",
       "      <th>VARIABLE</th>\n",
       "      <th>LABEL</th>\n",
       "    </tr>\n",
       "  </thead>\n",
       "  <tbody>\n",
       "    <tr>\n",
       "      <th>0</th>\n",
       "      <td>B05006_001E</td>\n",
       "      <td>Estimate!!Total</td>\n",
       "    </tr>\n",
       "    <tr>\n",
       "      <th>1</th>\n",
       "      <td>B05006_002E</td>\n",
       "      <td>Estimate!!Total!!Europe</td>\n",
       "    </tr>\n",
       "    <tr>\n",
       "      <th>2</th>\n",
       "      <td>B05006_003E</td>\n",
       "      <td>Estimate!!Total!!Europe!!Northern Europe</td>\n",
       "    </tr>\n",
       "    <tr>\n",
       "      <th>3</th>\n",
       "      <td>B05006_004E</td>\n",
       "      <td>Estimate!!Total!!Europe!!Northern Europe!!Unit...</td>\n",
       "    </tr>\n",
       "    <tr>\n",
       "      <th>4</th>\n",
       "      <td>B05006_005E</td>\n",
       "      <td>Estimate!!Total!!Europe!!Northern Europe!!Unit...</td>\n",
       "    </tr>\n",
       "  </tbody>\n",
       "</table>\n",
       "</div>"
      ],
      "text/plain": [
       "      VARIABLE                                              LABEL\n",
       "0  B05006_001E                                    Estimate!!Total\n",
       "1  B05006_002E                            Estimate!!Total!!Europe\n",
       "2  B05006_003E           Estimate!!Total!!Europe!!Northern Europe\n",
       "3  B05006_004E  Estimate!!Total!!Europe!!Northern Europe!!Unit...\n",
       "4  B05006_005E  Estimate!!Total!!Europe!!Northern Europe!!Unit..."
      ]
     },
     "execution_count": 7,
     "metadata": {},
     "output_type": "execute_result"
    }
   ],
   "source": [
    "print(acs_acs5_groups_2009[acs_acs5_groups_2009['GROUP'] == 'B05006'])\n",
    "birth = ced.variables.all_variables('acs/acs5', 2009, 'B05006')[['VARIABLE', 'LABEL']]\n",
    "birth.to_csv('notes/B05006_variables.csv', index=False)\n",
    "birth.head()"
   ]
  },
  {
   "cell_type": "code",
   "execution_count": 8,
   "metadata": {},
   "outputs": [
    {
     "data": {
      "text/plain": [
       "['estimate total']"
      ]
     },
     "execution_count": 8,
     "metadata": {},
     "output_type": "execute_result"
    }
   ],
   "source": [
    "validate_xyear(f'B05006_001E', 'B05006', 'acs/acs5', range(2009, 2022+1))"
   ]
  },
  {
   "cell_type": "code",
   "execution_count": 9,
   "metadata": {},
   "outputs": [
    {
     "name": "stdout",
     "output_type": "stream",
     "text": [
      "     GROUP                                     DESCRIPTION\n",
      "59  B05006  PLACE OF BIRTH FOR THE FOREIGN-BORN POPULATION\n"
     ]
    },
    {
     "data": {
      "text/html": [
       "<div>\n",
       "<style scoped>\n",
       "    .dataframe tbody tr th:only-of-type {\n",
       "        vertical-align: middle;\n",
       "    }\n",
       "\n",
       "    .dataframe tbody tr th {\n",
       "        vertical-align: top;\n",
       "    }\n",
       "\n",
       "    .dataframe thead th {\n",
       "        text-align: right;\n",
       "    }\n",
       "</style>\n",
       "<table border=\"1\" class=\"dataframe\">\n",
       "  <thead>\n",
       "    <tr style=\"text-align: right;\">\n",
       "      <th></th>\n",
       "      <th>VARIABLE</th>\n",
       "      <th>LABEL</th>\n",
       "    </tr>\n",
       "  </thead>\n",
       "  <tbody>\n",
       "    <tr>\n",
       "      <th>0</th>\n",
       "      <td>B05006_001E</td>\n",
       "      <td>Estimate!!Total</td>\n",
       "    </tr>\n",
       "    <tr>\n",
       "      <th>1</th>\n",
       "      <td>B05006_002E</td>\n",
       "      <td>Estimate!!Total!!Europe</td>\n",
       "    </tr>\n",
       "    <tr>\n",
       "      <th>2</th>\n",
       "      <td>B05006_003E</td>\n",
       "      <td>Estimate!!Total!!Europe!!Northern Europe</td>\n",
       "    </tr>\n",
       "    <tr>\n",
       "      <th>3</th>\n",
       "      <td>B05006_004E</td>\n",
       "      <td>Estimate!!Total!!Europe!!Northern Europe!!Unit...</td>\n",
       "    </tr>\n",
       "    <tr>\n",
       "      <th>4</th>\n",
       "      <td>B05006_005E</td>\n",
       "      <td>Estimate!!Total!!Europe!!Northern Europe!!Unit...</td>\n",
       "    </tr>\n",
       "  </tbody>\n",
       "</table>\n",
       "</div>"
      ],
      "text/plain": [
       "      VARIABLE                                              LABEL\n",
       "0  B05006_001E                                    Estimate!!Total\n",
       "1  B05006_002E                            Estimate!!Total!!Europe\n",
       "2  B05006_003E           Estimate!!Total!!Europe!!Northern Europe\n",
       "3  B05006_004E  Estimate!!Total!!Europe!!Northern Europe!!Unit...\n",
       "4  B05006_005E  Estimate!!Total!!Europe!!Northern Europe!!Unit..."
      ]
     },
     "execution_count": 9,
     "metadata": {},
     "output_type": "execute_result"
    }
   ],
   "source": [
    "print(acs_acs1_groups_2007[acs_acs1_groups_2007['GROUP'] == 'B05006'])\n",
    "ced.variables.all_variables('acs/acs1', 2007, 'B05006')[['VARIABLE', 'LABEL']].head()"
   ]
  },
  {
   "cell_type": "code",
   "execution_count": 10,
   "metadata": {},
   "outputs": [
    {
     "data": {
      "text/plain": [
       "['estimate total']"
      ]
     },
     "execution_count": 10,
     "metadata": {},
     "output_type": "execute_result"
    }
   ],
   "source": [
    "years_acs1_list = list(range(2009, 2022+1))\n",
    "years_acs1_list.remove(2020)\n",
    "validate_xyear(f'B05006_001E', 'B05006', 'acs/acs1', years_acs1_list)"
   ]
  },
  {
   "cell_type": "markdown",
   "metadata": {},
   "source": [
    "## English \"less than well\" (language spoken at home)"
   ]
  },
  {
   "cell_type": "code",
   "execution_count": 11,
   "metadata": {},
   "outputs": [
    {
     "name": "stdout",
     "output_type": "stream",
     "text": [
      "      GROUP                                        DESCRIPTION\n",
      "180  B16001  LANGUAGE SPOKEN AT HOME BY ABILITY TO SPEAK EN...\n"
     ]
    },
    {
     "data": {
      "text/html": [
       "<div>\n",
       "<style scoped>\n",
       "    .dataframe tbody tr th:only-of-type {\n",
       "        vertical-align: middle;\n",
       "    }\n",
       "\n",
       "    .dataframe tbody tr th {\n",
       "        vertical-align: top;\n",
       "    }\n",
       "\n",
       "    .dataframe thead th {\n",
       "        text-align: right;\n",
       "    }\n",
       "</style>\n",
       "<table border=\"1\" class=\"dataframe\">\n",
       "  <thead>\n",
       "    <tr style=\"text-align: right;\">\n",
       "      <th></th>\n",
       "      <th>VARIABLE</th>\n",
       "      <th>LABEL</th>\n",
       "    </tr>\n",
       "  </thead>\n",
       "  <tbody>\n",
       "    <tr>\n",
       "      <th>0</th>\n",
       "      <td>B16001_001E</td>\n",
       "      <td>Estimate!!Total</td>\n",
       "    </tr>\n",
       "    <tr>\n",
       "      <th>1</th>\n",
       "      <td>B16001_002E</td>\n",
       "      <td>Estimate!!Total!!Speak only English</td>\n",
       "    </tr>\n",
       "    <tr>\n",
       "      <th>2</th>\n",
       "      <td>B16001_003E</td>\n",
       "      <td>Estimate!!Total!!Spanish or Spanish Creole</td>\n",
       "    </tr>\n",
       "    <tr>\n",
       "      <th>3</th>\n",
       "      <td>B16001_004E</td>\n",
       "      <td>Estimate!!Total!!Spanish or Spanish Creole!!Sp...</td>\n",
       "    </tr>\n",
       "    <tr>\n",
       "      <th>4</th>\n",
       "      <td>B16001_005E</td>\n",
       "      <td>Estimate!!Total!!Spanish or Spanish Creole!!Sp...</td>\n",
       "    </tr>\n",
       "  </tbody>\n",
       "</table>\n",
       "</div>"
      ],
      "text/plain": [
       "      VARIABLE                                              LABEL\n",
       "0  B16001_001E                                    Estimate!!Total\n",
       "1  B16001_002E                Estimate!!Total!!Speak only English\n",
       "2  B16001_003E         Estimate!!Total!!Spanish or Spanish Creole\n",
       "3  B16001_004E  Estimate!!Total!!Spanish or Spanish Creole!!Sp...\n",
       "4  B16001_005E  Estimate!!Total!!Spanish or Spanish Creole!!Sp..."
      ]
     },
     "execution_count": 11,
     "metadata": {},
     "output_type": "execute_result"
    }
   ],
   "source": [
    "print(acs_acs5_groups_2009[acs_acs5_groups_2009['GROUP'] == 'B16001'])\n",
    "language_acs5_2009 = ced.variables.all_variables('acs/acs5', 2009, 'B16001')[['VARIABLE', 'LABEL']]\n",
    "language_acs5_2009.to_csv('notes/B16001_2009_variables.csv', index=False)\n",
    "language_acs5_2009.head()"
   ]
  },
  {
   "cell_type": "code",
   "execution_count": 12,
   "metadata": {},
   "outputs": [
    {
     "data": {
      "text/plain": [
       "['B16001_005E', 'B16001_008E', 'B16001_011E', 'B16001_014E', 'B16001_017E']"
      ]
     },
     "execution_count": 12,
     "metadata": {},
     "output_type": "execute_result"
    }
   ],
   "source": [
    "# identify less than very well variables\n",
    "\n",
    "label = language_acs5_2009.LABEL\n",
    "for token in string.punctuation:\n",
    "    label = label.str.replace(token, ' ')\n",
    "# Remove multiple spaces\n",
    "label = label.str.replace(' +', ' ', regex=True)\n",
    "# Remove leading and trailing spaces\n",
    "label = label.str.strip()\n",
    "# Convert to small caps\n",
    "label = label.str.lower()\n",
    "\n",
    "language_acs5_2009['LABEL'] = label\n",
    "\n",
    "less_than_list = language_acs5_2009.VARIABLE[label.str.contains('less than very well')].to_list()\n",
    "less_than_list[:5]"
   ]
  },
  {
   "cell_type": "code",
   "execution_count": 13,
   "metadata": {},
   "outputs": [
    {
     "name": "stdout",
     "output_type": "stream",
     "text": [
      "total codes: 39\n",
      "total valid codes: 39\n"
     ]
    }
   ],
   "source": [
    "# years 2009 to 2015 share the same variable IDs\n",
    "\n",
    "valid_codes = [len(validate_xyear(var_id, 'B16001', 'acs/acs5', range(2009, 2015+1))) == 1 for var_id in less_than_list]\n",
    "#print(valid_codes)\n",
    "print(\"total codes:\", len(valid_codes))\n",
    "print(\"total valid codes:\", sum(valid_codes))"
   ]
  },
  {
   "cell_type": "code",
   "execution_count": 14,
   "metadata": {},
   "outputs": [
    {
     "name": "stdout",
     "output_type": "stream",
     "text": [
      "      GROUP                                        DESCRIPTION\n",
      "396  B16001  LANGUAGE SPOKEN AT HOME BY ABILITY TO SPEAK EN...\n"
     ]
    },
    {
     "data": {
      "text/plain": [
       "['B16001_005E', 'B16001_008E', 'B16001_011E', 'B16001_014E', 'B16001_017E']"
      ]
     },
     "execution_count": 14,
     "metadata": {},
     "output_type": "execute_result"
    }
   ],
   "source": [
    "# identify codes 2016 onwards\n",
    "print(acs_acs5_groups_2016[acs_acs5_groups_2016['GROUP'] == 'B16001'])\n",
    "language_acs5_2016 = ced.variables.all_variables('acs/acs5', 2016, 'B16001')[['VARIABLE', 'LABEL']]\n",
    "language_acs5_2016.to_csv('notes/B16001_2016_variables.csv', index=False)\n",
    "\n",
    "# identify less than very well variables\n",
    "\n",
    "label = language_acs5_2016.LABEL\n",
    "for token in string.punctuation:\n",
    "    label = label.str.replace(token, ' ')\n",
    "# Remove multiple spaces\n",
    "label = label.str.replace(' +', ' ', regex=True)\n",
    "# Remove leading and trailing spaces\n",
    "label = label.str.strip()\n",
    "# Convert to small caps\n",
    "label = label.str.lower()\n",
    "\n",
    "language_acs5_2016['LABEL'] = label\n",
    "\n",
    "less_than_list = language_acs5_2016.VARIABLE[label.str.contains('less than very well')].to_list()\n",
    "less_than_list[:5]"
   ]
  },
  {
   "cell_type": "code",
   "execution_count": 15,
   "metadata": {},
   "outputs": [
    {
     "name": "stdout",
     "output_type": "stream",
     "text": [
      "total codes: 42\n",
      "total valid codes: 42\n"
     ]
    }
   ],
   "source": [
    "# years 2016 onwards share the same variable IDs\n",
    "\n",
    "valid_codes = [len(validate_xyear(var_id, 'B16001', 'acs/acs5', range(2016, 2022+1))) == 1 for var_id in less_than_list]\n",
    "#print(valid_codes)\n",
    "print(\"total codes:\", len(valid_codes))\n",
    "print(\"total valid codes:\", sum(valid_codes))"
   ]
  },
  {
   "cell_type": "code",
   "execution_count": 16,
   "metadata": {},
   "outputs": [
    {
     "name": "stdout",
     "output_type": "stream",
     "text": [
      "      GROUP                                        DESCRIPTION\n",
      "387  B16001  LANGUAGE SPOKEN AT HOME BY ABILITY TO SPEAK EN...\n",
      "total codes: 39\n",
      "total valid codes: 38\n"
     ]
    }
   ],
   "source": [
    "print(acs_acs1_groups_2007[acs_acs1_groups_2007['GROUP'] == 'B16001'])\n",
    "language_acs1_2007 = ced.variables.all_variables('acs/acs1', 2007, 'B16001')[['VARIABLE', 'LABEL']]\n",
    "\n",
    "# identify less than very well variables\n",
    "\n",
    "label = language_acs1_2007.LABEL\n",
    "for token in string.punctuation:\n",
    "    label = label.str.replace(token, ' ')\n",
    "# Remove multiple spaces\n",
    "label = label.str.replace(' +', ' ', regex=True)\n",
    "# Remove leading and trailing spaces\n",
    "label = label.str.strip()\n",
    "# Convert to small caps\n",
    "label = label.str.lower()\n",
    "\n",
    "language_acs1_2007['LABEL'] = label\n",
    "\n",
    "less_than_list = language_acs1_2007.VARIABLE[label.str.contains('less than very well')].to_list()\n",
    "less_than_list[:5]\n",
    "\n",
    "# years 2009 to 2015 share the same variable IDs\n",
    "\n",
    "valid_codes = [len(validate_xyear(var_id, 'B16001', 'acs/acs1', range(2007, 2015+1))) == 1 for var_id in less_than_list]\n",
    "\n",
    "#print(valid_codes)\n",
    "print(\"total codes:\", len(valid_codes))\n",
    "print(\"total valid codes:\", sum(valid_codes))"
   ]
  },
  {
   "cell_type": "code",
   "execution_count": 17,
   "metadata": {},
   "outputs": [
    {
     "name": "stdout",
     "output_type": "stream",
     "text": [
      "      GROUP                                        DESCRIPTION\n",
      "400  B16001  LANGUAGE SPOKEN AT HOME BY ABILITY TO SPEAK EN...\n",
      "total codes: 42\n",
      "total valid codes: 42\n"
     ]
    }
   ],
   "source": [
    "print(acs_acs1_groups_2016[acs_acs1_groups_2016['GROUP'] == 'B16001'])\n",
    "language_acs1_2016 = ced.variables.all_variables('acs/acs1', 2016, 'B16001')[['VARIABLE', 'LABEL']]\n",
    "\n",
    "# identify less than very well variables\n",
    "\n",
    "label = language_acs1_2016.LABEL\n",
    "for token in string.punctuation:\n",
    "    label = label.str.replace(token, ' ')\n",
    "# Remove multiple spaces\n",
    "label = label.str.replace(' +', ' ', regex=True)\n",
    "# Remove leading and trailing spaces\n",
    "label = label.str.strip()\n",
    "# Convert to small caps\n",
    "label = label.str.lower()\n",
    "\n",
    "language_acs1_2016['LABEL'] = label\n",
    "\n",
    "less_than_list = language_acs1_2016.VARIABLE[label.str.contains('less than very well')].to_list()\n",
    "less_than_list[:5]\n",
    "\n",
    "# years 2009 to 2015 share the same variable IDs\n",
    "years = list(range(2016, 2022+1))\n",
    "years.remove(2020)\n",
    "valid_codes = [len(validate_xyear(var_id, 'B16001', 'acs/acs1', years)) == 1 for var_id in less_than_list]\n",
    "\n",
    "#print(valid_codes)\n",
    "print(\"total codes:\", len(valid_codes))\n",
    "print(\"total valid codes:\", sum(valid_codes))"
   ]
  },
  {
   "cell_type": "markdown",
   "metadata": {},
   "source": [
    "## Spanish speaking (language spoken at home)"
   ]
  },
  {
   "cell_type": "code",
   "execution_count": 18,
   "metadata": {},
   "outputs": [
    {
     "name": "stdout",
     "output_type": "stream",
     "text": [
      "      VARIABLE                                     LABEL\n",
      "2  B16001_003E  estimate total spanish or spanish creole\n",
      "      VARIABLE                   LABEL\n",
      "2  B16001_003E  estimate total spanish\n"
     ]
    }
   ],
   "source": [
    "print(language_acs5_2009[language_acs5_2009.VARIABLE == 'B16001_003E'])\n",
    "print(language_acs5_2016[language_acs5_2016.VARIABLE == 'B16001_003E'])"
   ]
  },
  {
   "cell_type": "code",
   "execution_count": 19,
   "metadata": {},
   "outputs": [
    {
     "name": "stdout",
     "output_type": "stream",
     "text": [
      "      VARIABLE                                     LABEL\n",
      "2  B16001_003E  estimate total spanish or spanish creole\n",
      "      VARIABLE                   LABEL\n",
      "2  B16001_003E  estimate total spanish\n"
     ]
    }
   ],
   "source": [
    "print(language_acs1_2007[language_acs1_2007.VARIABLE == 'B16001_003E'])\n",
    "print(language_acs1_2016[language_acs1_2016.VARIABLE == 'B16001_003E'])"
   ]
  },
  {
   "cell_type": "markdown",
   "metadata": {},
   "source": [
    "## Spanish and speaks English less than very well (language spoken at home)"
   ]
  },
  {
   "cell_type": "code",
   "execution_count": 20,
   "metadata": {},
   "outputs": [
    {
     "name": "stdout",
     "output_type": "stream",
     "text": [
      "['estimate total spanish or spanish creole speak english less than very well']\n",
      "['estimate total spanish speak english less than very well']\n"
     ]
    }
   ],
   "source": [
    "print(language_acs5_2009.LABEL[language_acs5_2009.VARIABLE == 'B16001_005E'].values)\n",
    "print(language_acs5_2016.LABEL[language_acs5_2016.VARIABLE == 'B16001_005E'].values)"
   ]
  },
  {
   "cell_type": "code",
   "execution_count": 21,
   "metadata": {},
   "outputs": [
    {
     "name": "stdout",
     "output_type": "stream",
     "text": [
      "['estimate total spanish or spanish creole speak english less than very well']\n",
      "['estimate total spanish speak english less than very well']\n"
     ]
    }
   ],
   "source": [
    "print(language_acs1_2007.LABEL[language_acs1_2007.VARIABLE == 'B16001_005E'].values)\n",
    "print(language_acs1_2016.LABEL[language_acs1_2016.VARIABLE == 'B16001_005E'].values)"
   ]
  },
  {
   "cell_type": "markdown",
   "metadata": {},
   "source": [
    "## Asian and pacific (language spoken at home by nativity)"
   ]
  },
  {
   "cell_type": "code",
   "execution_count": 22,
   "metadata": {},
   "outputs": [],
   "source": [
    "language_acs5_2009 = ced.variables.all_variables('acs/acs5', 2009, 'B16005')[['VARIABLE', 'LABEL']]\n",
    "language_acs5_2009.to_csv('notes/B16005_2009_variables.csv', index=False)\n",
    "language_acs5_2016 = ced.variables.all_variables('acs/acs5', 2016, 'B16005')[['VARIABLE', 'LABEL']]\n",
    "language_acs5_2016.to_csv('notes/B16005_2016_variables.csv', index=False)"
   ]
  },
  {
   "cell_type": "code",
   "execution_count": 23,
   "metadata": {},
   "outputs": [
    {
     "name": "stdout",
     "output_type": "stream",
     "text": [
      "['Estimate!!Total!!Native!!Speak Asian and Pacific Island languages']\n",
      "['Estimate!!Total!!Foreign born!!Speak Asian and Pacific Island languages']\n",
      "['Estimate!!Total!!Native!!Speak Asian and Pacific Island languages']\n",
      "['Estimate!!Total!!Foreign born!!Speak Asian and Pacific Island languages']\n"
     ]
    }
   ],
   "source": [
    "print(language_acs5_2009.LABEL[language_acs5_2009.VARIABLE == 'B16005_014E'].values)\n",
    "print(language_acs5_2009.LABEL[language_acs5_2009.VARIABLE == 'B16005_036E'].values)\n",
    "print(language_acs5_2016.LABEL[language_acs5_2016.VARIABLE == 'B16005_014E'].values)\n",
    "print(language_acs5_2016.LABEL[language_acs5_2016.VARIABLE == 'B16005_036E'].values)"
   ]
  },
  {
   "cell_type": "code",
   "execution_count": 24,
   "metadata": {},
   "outputs": [
    {
     "data": {
      "text/plain": [
       "['estimate total native speak asian and pacific island languages']"
      ]
     },
     "execution_count": 24,
     "metadata": {},
     "output_type": "execute_result"
    }
   ],
   "source": [
    "validate_xyear('B16005_014E', 'B16005', 'acs/acs5', range(2009, 2022+1))"
   ]
  },
  {
   "cell_type": "code",
   "execution_count": 25,
   "metadata": {},
   "outputs": [
    {
     "data": {
      "text/plain": [
       "['estimate total foreign born speak asian and pacific island languages']"
      ]
     },
     "execution_count": 25,
     "metadata": {},
     "output_type": "execute_result"
    }
   ],
   "source": [
    "validate_xyear('B16005_036E', 'B16005', 'acs/acs5', range(2009, 2022+1))"
   ]
  },
  {
   "cell_type": "code",
   "execution_count": 28,
   "metadata": {},
   "outputs": [
    {
     "data": {
      "text/plain": [
       "['estimate total native speak asian and pacific island languages']"
      ]
     },
     "execution_count": 28,
     "metadata": {},
     "output_type": "execute_result"
    }
   ],
   "source": [
    "validate_xyear('B16005_014E', 'B16005', 'acs/acs1', years_acs1_list)"
   ]
  },
  {
   "cell_type": "code",
   "execution_count": 29,
   "metadata": {},
   "outputs": [
    {
     "data": {
      "text/plain": [
       "['estimate total foreign born speak asian and pacific island languages']"
      ]
     },
     "execution_count": 29,
     "metadata": {},
     "output_type": "execute_result"
    }
   ],
   "source": [
    "validate_xyear('B16005_036E', 'B16005', 'acs/acs5', years_acs1_list)"
   ]
  },
  {
   "cell_type": "markdown",
   "metadata": {},
   "source": [
    "## Asian and pacific and speaks English less than very well (language spoken at home by nativity)"
   ]
  },
  {
   "cell_type": "code",
   "execution_count": 30,
   "metadata": {},
   "outputs": [
    {
     "name": "stdout",
     "output_type": "stream",
     "text": [
      "['Estimate!!Total!!Native!!Speak Asian and Pacific Island languages!!Speak English \"well\"']\n",
      "['Estimate!!Total!!Native!!Speak Asian and Pacific Island languages!!Speak English \"not well\"']\n",
      "['Estimate!!Total!!Native!!Speak Asian and Pacific Island languages!!Speak English \"not at all\"']\n",
      "['Estimate!!Total!!Foreign born!!Speak Asian and Pacific Island languages!!Speak English \"well\"']\n",
      "['Estimate!!Total!!Foreign born!!Speak Asian and Pacific Island languages!!Speak English \"not well\"']\n",
      "['Estimate!!Total!!Foreign born!!Speak Asian and Pacific Island languages!!Speak English \"not at all\"']\n"
     ]
    }
   ],
   "source": [
    "print(language_acs5_2009.LABEL[language_acs5_2009.VARIABLE == 'B16005_016E'].values)\n",
    "print(language_acs5_2009.LABEL[language_acs5_2009.VARIABLE == 'B16005_017E'].values)\n",
    "print(language_acs5_2009.LABEL[language_acs5_2009.VARIABLE == 'B16005_018E'].values)\n",
    "print(language_acs5_2009.LABEL[language_acs5_2009.VARIABLE == 'B16005_038E'].values)\n",
    "print(language_acs5_2009.LABEL[language_acs5_2009.VARIABLE == 'B16005_039E'].values)\n",
    "print(language_acs5_2009.LABEL[language_acs5_2009.VARIABLE == 'B16005_040E'].values)"
   ]
  },
  {
   "cell_type": "code",
   "execution_count": 31,
   "metadata": {},
   "outputs": [
    {
     "name": "stdout",
     "output_type": "stream",
     "text": [
      "['estimate total native speak asian and pacific island languages speak english well']\n",
      "['estimate total native speak asian and pacific island languages speak english not well']\n",
      "['estimate total native speak asian and pacific island languages speak english not at all']\n",
      "['estimate total foreign born speak asian and pacific island languages speak english well']\n",
      "['estimate total foreign born speak asian and pacific island languages speak english not well']\n",
      "['estimate total foreign born speak asian and pacific island languages speak english not at all']\n"
     ]
    }
   ],
   "source": [
    "print(validate_xyear('B16005_016E', 'B16005', 'acs/acs5', range(2009, 2022+1)))\n",
    "print(validate_xyear('B16005_017E', 'B16005', 'acs/acs5', range(2009, 2022+1)))\n",
    "print(validate_xyear('B16005_018E', 'B16005', 'acs/acs5', range(2009, 2022+1)))\n",
    "print(validate_xyear('B16005_038E', 'B16005', 'acs/acs5', range(2009, 2022+1)))\n",
    "print(validate_xyear('B16005_039E', 'B16005', 'acs/acs5', range(2009, 2022+1)))\n",
    "print(validate_xyear('B16005_040E', 'B16005', 'acs/acs5', range(2009, 2022+1)))"
   ]
  },
  {
   "cell_type": "code",
   "execution_count": 32,
   "metadata": {},
   "outputs": [
    {
     "name": "stdout",
     "output_type": "stream",
     "text": [
      "['estimate total native speak asian and pacific island languages speak english well']\n",
      "['estimate total native speak asian and pacific island languages speak english not well']\n",
      "['estimate total native speak asian and pacific island languages speak english not at all']\n",
      "['estimate total foreign born speak asian and pacific island languages speak english well']\n",
      "['estimate total foreign born speak asian and pacific island languages speak english not well']\n",
      "['estimate total foreign born speak asian and pacific island languages speak english not at all']\n"
     ]
    }
   ],
   "source": [
    "print(validate_xyear('B16005_016E', 'B16005', 'acs/acs1', years_acs1_list))\n",
    "print(validate_xyear('B16005_017E', 'B16005', 'acs/acs1', years_acs1_list))\n",
    "print(validate_xyear('B16005_018E', 'B16005', 'acs/acs1', years_acs1_list))\n",
    "print(validate_xyear('B16005_038E', 'B16005', 'acs/acs1', years_acs1_list))\n",
    "print(validate_xyear('B16005_039E', 'B16005', 'acs/acs1', years_acs1_list))\n",
    "print(validate_xyear('B16005_040E', 'B16005', 'acs/acs1', years_acs1_list))"
   ]
  },
  {
   "cell_type": "markdown",
   "metadata": {},
   "source": [
    "## Not Hispanic asian alone "
   ]
  },
  {
   "cell_type": "code",
   "execution_count": 35,
   "metadata": {},
   "outputs": [
    {
     "name": "stdout",
     "output_type": "stream",
     "text": [
      "     GROUP                        DESCRIPTION\n",
      "34  B03002  HISPANIC OR LATINO ORIGIN BY RACE\n"
     ]
    },
    {
     "data": {
      "text/html": [
       "<div>\n",
       "<style scoped>\n",
       "    .dataframe tbody tr th:only-of-type {\n",
       "        vertical-align: middle;\n",
       "    }\n",
       "\n",
       "    .dataframe tbody tr th {\n",
       "        vertical-align: top;\n",
       "    }\n",
       "\n",
       "    .dataframe thead th {\n",
       "        text-align: right;\n",
       "    }\n",
       "</style>\n",
       "<table border=\"1\" class=\"dataframe\">\n",
       "  <thead>\n",
       "    <tr style=\"text-align: right;\">\n",
       "      <th></th>\n",
       "      <th>VARIABLE</th>\n",
       "      <th>LABEL</th>\n",
       "    </tr>\n",
       "  </thead>\n",
       "  <tbody>\n",
       "    <tr>\n",
       "      <th>0</th>\n",
       "      <td>B03002_001E</td>\n",
       "      <td>Estimate!!Total</td>\n",
       "    </tr>\n",
       "    <tr>\n",
       "      <th>1</th>\n",
       "      <td>B03002_002E</td>\n",
       "      <td>Estimate!!Total!!Not Hispanic or Latino</td>\n",
       "    </tr>\n",
       "    <tr>\n",
       "      <th>2</th>\n",
       "      <td>B03002_003E</td>\n",
       "      <td>Estimate!!Total!!Not Hispanic or Latino!!White alone</td>\n",
       "    </tr>\n",
       "    <tr>\n",
       "      <th>3</th>\n",
       "      <td>B03002_004E</td>\n",
       "      <td>Estimate!!Total!!Not Hispanic or Latino!!Black or African American alone</td>\n",
       "    </tr>\n",
       "    <tr>\n",
       "      <th>4</th>\n",
       "      <td>B03002_005E</td>\n",
       "      <td>Estimate!!Total!!Not Hispanic or Latino!!American Indian and Alaska Native alone</td>\n",
       "    </tr>\n",
       "    <tr>\n",
       "      <th>5</th>\n",
       "      <td>B03002_006E</td>\n",
       "      <td>Estimate!!Total!!Not Hispanic or Latino!!Asian alone</td>\n",
       "    </tr>\n",
       "    <tr>\n",
       "      <th>6</th>\n",
       "      <td>B03002_007E</td>\n",
       "      <td>Estimate!!Total!!Not Hispanic or Latino!!Native Hawaiian and Other Pacific Islander alone</td>\n",
       "    </tr>\n",
       "    <tr>\n",
       "      <th>7</th>\n",
       "      <td>B03002_008E</td>\n",
       "      <td>Estimate!!Total!!Not Hispanic or Latino!!Some other race alone</td>\n",
       "    </tr>\n",
       "    <tr>\n",
       "      <th>8</th>\n",
       "      <td>B03002_009E</td>\n",
       "      <td>Estimate!!Total!!Not Hispanic or Latino!!Two or more races</td>\n",
       "    </tr>\n",
       "    <tr>\n",
       "      <th>9</th>\n",
       "      <td>B03002_010E</td>\n",
       "      <td>Estimate!!Total!!Not Hispanic or Latino!!Two or more races!!Two races including Some other race</td>\n",
       "    </tr>\n",
       "    <tr>\n",
       "      <th>10</th>\n",
       "      <td>B03002_011E</td>\n",
       "      <td>Estimate!!Total!!Not Hispanic or Latino!!Two or more races!!Two races excluding Some other race, and three or more races</td>\n",
       "    </tr>\n",
       "    <tr>\n",
       "      <th>11</th>\n",
       "      <td>B03002_012E</td>\n",
       "      <td>Estimate!!Total!!Hispanic or Latino</td>\n",
       "    </tr>\n",
       "    <tr>\n",
       "      <th>12</th>\n",
       "      <td>B03002_013E</td>\n",
       "      <td>Estimate!!Total!!Hispanic or Latino!!White alone</td>\n",
       "    </tr>\n",
       "    <tr>\n",
       "      <th>13</th>\n",
       "      <td>B03002_014E</td>\n",
       "      <td>Estimate!!Total!!Hispanic or Latino!!Black or African American alone</td>\n",
       "    </tr>\n",
       "    <tr>\n",
       "      <th>14</th>\n",
       "      <td>B03002_015E</td>\n",
       "      <td>Estimate!!Total!!Hispanic or Latino!!American Indian and Alaska Native alone</td>\n",
       "    </tr>\n",
       "    <tr>\n",
       "      <th>15</th>\n",
       "      <td>B03002_016E</td>\n",
       "      <td>Estimate!!Total!!Hispanic or Latino!!Asian alone</td>\n",
       "    </tr>\n",
       "    <tr>\n",
       "      <th>16</th>\n",
       "      <td>B03002_017E</td>\n",
       "      <td>Estimate!!Total!!Hispanic or Latino!!Native Hawaiian and Other Pacific Islander alone</td>\n",
       "    </tr>\n",
       "    <tr>\n",
       "      <th>17</th>\n",
       "      <td>B03002_018E</td>\n",
       "      <td>Estimate!!Total!!Hispanic or Latino!!Some other race alone</td>\n",
       "    </tr>\n",
       "    <tr>\n",
       "      <th>18</th>\n",
       "      <td>B03002_019E</td>\n",
       "      <td>Estimate!!Total!!Hispanic or Latino!!Two or more races</td>\n",
       "    </tr>\n",
       "    <tr>\n",
       "      <th>19</th>\n",
       "      <td>B03002_020E</td>\n",
       "      <td>Estimate!!Total!!Hispanic or Latino!!Two or more races!!Two races including Some other race</td>\n",
       "    </tr>\n",
       "    <tr>\n",
       "      <th>20</th>\n",
       "      <td>B03002_021E</td>\n",
       "      <td>Estimate!!Total!!Hispanic or Latino!!Two or more races!!Two races excluding Some other race, and three or more races</td>\n",
       "    </tr>\n",
       "    <tr>\n",
       "      <th>21</th>\n",
       "      <td>GEO_ID</td>\n",
       "      <td>Geography</td>\n",
       "    </tr>\n",
       "    <tr>\n",
       "      <th>22</th>\n",
       "      <td>NAME</td>\n",
       "      <td>Geographic Area Name</td>\n",
       "    </tr>\n",
       "  </tbody>\n",
       "</table>\n",
       "</div>"
      ],
      "text/plain": [
       "       VARIABLE  \\\n",
       "0   B03002_001E   \n",
       "1   B03002_002E   \n",
       "2   B03002_003E   \n",
       "3   B03002_004E   \n",
       "4   B03002_005E   \n",
       "5   B03002_006E   \n",
       "6   B03002_007E   \n",
       "7   B03002_008E   \n",
       "8   B03002_009E   \n",
       "9   B03002_010E   \n",
       "10  B03002_011E   \n",
       "11  B03002_012E   \n",
       "12  B03002_013E   \n",
       "13  B03002_014E   \n",
       "14  B03002_015E   \n",
       "15  B03002_016E   \n",
       "16  B03002_017E   \n",
       "17  B03002_018E   \n",
       "18  B03002_019E   \n",
       "19  B03002_020E   \n",
       "20  B03002_021E   \n",
       "21       GEO_ID   \n",
       "22         NAME   \n",
       "\n",
       "                                                                                                                       LABEL  \n",
       "0                                                                                                            Estimate!!Total  \n",
       "1                                                                                    Estimate!!Total!!Not Hispanic or Latino  \n",
       "2                                                                       Estimate!!Total!!Not Hispanic or Latino!!White alone  \n",
       "3                                                   Estimate!!Total!!Not Hispanic or Latino!!Black or African American alone  \n",
       "4                                           Estimate!!Total!!Not Hispanic or Latino!!American Indian and Alaska Native alone  \n",
       "5                                                                       Estimate!!Total!!Not Hispanic or Latino!!Asian alone  \n",
       "6                                  Estimate!!Total!!Not Hispanic or Latino!!Native Hawaiian and Other Pacific Islander alone  \n",
       "7                                                             Estimate!!Total!!Not Hispanic or Latino!!Some other race alone  \n",
       "8                                                                 Estimate!!Total!!Not Hispanic or Latino!!Two or more races  \n",
       "9                            Estimate!!Total!!Not Hispanic or Latino!!Two or more races!!Two races including Some other race  \n",
       "10  Estimate!!Total!!Not Hispanic or Latino!!Two or more races!!Two races excluding Some other race, and three or more races  \n",
       "11                                                                                       Estimate!!Total!!Hispanic or Latino  \n",
       "12                                                                          Estimate!!Total!!Hispanic or Latino!!White alone  \n",
       "13                                                      Estimate!!Total!!Hispanic or Latino!!Black or African American alone  \n",
       "14                                              Estimate!!Total!!Hispanic or Latino!!American Indian and Alaska Native alone  \n",
       "15                                                                          Estimate!!Total!!Hispanic or Latino!!Asian alone  \n",
       "16                                     Estimate!!Total!!Hispanic or Latino!!Native Hawaiian and Other Pacific Islander alone  \n",
       "17                                                                Estimate!!Total!!Hispanic or Latino!!Some other race alone  \n",
       "18                                                                    Estimate!!Total!!Hispanic or Latino!!Two or more races  \n",
       "19                               Estimate!!Total!!Hispanic or Latino!!Two or more races!!Two races including Some other race  \n",
       "20      Estimate!!Total!!Hispanic or Latino!!Two or more races!!Two races excluding Some other race, and three or more races  \n",
       "21                                                                                                                 Geography  \n",
       "22                                                                                                      Geographic Area Name  "
      ]
     },
     "execution_count": 35,
     "metadata": {},
     "output_type": "execute_result"
    }
   ],
   "source": [
    "print(acs_acs5_groups_2009[acs_acs5_groups_2009['GROUP'] == 'B03002'])\n",
    "ced.variables.all_variables('acs/acs5', 2009, 'B03002')[['VARIABLE', 'LABEL']]\n"
   ]
  },
  {
   "cell_type": "code",
   "execution_count": 36,
   "metadata": {},
   "outputs": [
    {
     "data": {
      "text/plain": [
       "['estimate total not hispanic or latino asian alone']"
      ]
     },
     "execution_count": 36,
     "metadata": {},
     "output_type": "execute_result"
    }
   ],
   "source": [
    "validate_xyear('B03002_006E', 'B03002', 'acs/acs5', range(2009, 2022+1))"
   ]
  },
  {
   "cell_type": "code",
   "execution_count": 37,
   "metadata": {},
   "outputs": [
    {
     "data": {
      "text/plain": [
       "['estimate total not hispanic or latino asian alone']"
      ]
     },
     "execution_count": 37,
     "metadata": {},
     "output_type": "execute_result"
    }
   ],
   "source": [
    "validate_xyear('B03002_006E', 'B03002', 'acs/acs1', years_acs1_list)"
   ]
  },
  {
   "cell_type": "markdown",
   "metadata": {},
   "source": []
  }
 ],
 "metadata": {
  "kernelspec": {
   "display_name": "census_series",
   "language": "python",
   "name": "python3"
  },
  "language_info": {
   "codemirror_mode": {
    "name": "ipython",
    "version": 3
   },
   "file_extension": ".py",
   "mimetype": "text/x-python",
   "name": "python",
   "nbconvert_exporter": "python",
   "pygments_lexer": "ipython3",
   "version": "3.10.16"
  }
 },
 "nbformat": 4,
 "nbformat_minor": 2
}
